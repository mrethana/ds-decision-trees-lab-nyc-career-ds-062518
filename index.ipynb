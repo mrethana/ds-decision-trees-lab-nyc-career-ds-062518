{
 "cells": [
  {
   "cell_type": "markdown",
   "metadata": {},
   "source": [
    "# An introduction to decision trees"
   ]
  },
  {
   "cell_type": "markdown",
   "metadata": {},
   "source": [
    "## 1. Game of Thrones example"
   ]
  },
  {
   "cell_type": "markdown",
   "metadata": {},
   "source": [
    "### 1.1 Generate and pre-process the data"
   ]
  },
  {
   "cell_type": "markdown",
   "metadata": {},
   "source": [
    "In the following code block, we generate a data set with just one variable, \"age\", to mimick our \"Game of Thrones\" tree example. "
   ]
  },
  {
   "cell_type": "code",
   "execution_count": 1,
   "metadata": {},
   "outputs": [],
   "source": [
    "import random\n",
    "import pandas as pd\n",
    "import numpy as np\n",
    "np.random.seed(0)\n",
    "\n",
    "#This code is provided \n",
    "random.seed(123)\n",
    "age_0 = pd.DataFrame([19])\n",
    "age_1 = pd.DataFrame(sorted(random.sample(range(18, 50), 20)))\n",
    "age_2 = pd.DataFrame(sorted(random.sample(range(35, 70), 20)))\n",
    "age_3 = pd.DataFrame([68])\n",
    "\n",
    "age = age_0.append(age_1, ignore_index= True)\n",
    "age = age.append(age_2, ignore_index= True)\n",
    "age = age.append(age_3, ignore_index= True)\n",
    "\n",
    "\n",
    "label_1 = pd.DataFrame([1,0,1,0,1,1,1,1,1,1,1,1,1,1,1,1,1,1,1,1,1])\n",
    "label_2 = pd.DataFrame([0,0,0,0,0,0,0,0,0,0,0,0,0,0,0,0,0,1,0,1,0])\n",
    "\n",
    "\n",
    "label = label_1.append(label_2, ignore_index=True)\n",
    "data = pd.concat([age, label], axis=1)\n",
    "\n",
    "data.columns = ['age', 'label']"
   ]
  },
  {
   "cell_type": "markdown",
   "metadata": {},
   "source": [
    "This data is created in such a way that the data is not perfectly separable, and also in a way that younger people seem to be more likely to watch the show."
   ]
  },
  {
   "cell_type": "code",
   "execution_count": 3,
   "metadata": {},
   "outputs": [
    {
     "data": {
      "text/html": [
       "<div>\n",
       "<style scoped>\n",
       "    .dataframe tbody tr th:only-of-type {\n",
       "        vertical-align: middle;\n",
       "    }\n",
       "\n",
       "    .dataframe tbody tr th {\n",
       "        vertical-align: top;\n",
       "    }\n",
       "\n",
       "    .dataframe thead th {\n",
       "        text-align: right;\n",
       "    }\n",
       "</style>\n",
       "<table border=\"1\" class=\"dataframe\">\n",
       "  <thead>\n",
       "    <tr style=\"text-align: right;\">\n",
       "      <th></th>\n",
       "      <th>age</th>\n",
       "      <th>label</th>\n",
       "    </tr>\n",
       "  </thead>\n",
       "  <tbody>\n",
       "    <tr>\n",
       "      <th>37</th>\n",
       "      <td>64</td>\n",
       "      <td>0</td>\n",
       "    </tr>\n",
       "    <tr>\n",
       "      <th>38</th>\n",
       "      <td>65</td>\n",
       "      <td>1</td>\n",
       "    </tr>\n",
       "    <tr>\n",
       "      <th>39</th>\n",
       "      <td>67</td>\n",
       "      <td>0</td>\n",
       "    </tr>\n",
       "    <tr>\n",
       "      <th>40</th>\n",
       "      <td>68</td>\n",
       "      <td>1</td>\n",
       "    </tr>\n",
       "    <tr>\n",
       "      <th>41</th>\n",
       "      <td>68</td>\n",
       "      <td>0</td>\n",
       "    </tr>\n",
       "  </tbody>\n",
       "</table>\n",
       "</div>"
      ],
      "text/plain": [
       "    age  label\n",
       "37   64      0\n",
       "38   65      1\n",
       "39   67      0\n",
       "40   68      1\n",
       "41   68      0"
      ]
     },
     "execution_count": 3,
     "metadata": {},
     "output_type": "execute_result"
    }
   ],
   "source": [
    "data.tail()"
   ]
  },
  {
   "cell_type": "markdown",
   "metadata": {},
   "source": [
    "### 1.2  Manually create a split"
   ]
  },
  {
   "cell_type": "markdown",
   "metadata": {},
   "source": [
    "We'll try to manually calculate what the \"perfect split\" is for this data set, so we'll basically try to recreate the first \"split\" in the decision tree from our lab. Let's show it again:"
   ]
  },
  {
   "cell_type": "markdown",
   "metadata": {},
   "source": [
    "![title](G_of_T_tree.png)"
   ]
  },
  {
   "cell_type": "markdown",
   "metadata": {},
   "source": [
    "Is 41 the best split? Let's find out! You'll create 3 functions in total:\n",
    "- A function `split()` which splits up the data set in a way that you can easily compute the gini for the two \"children\" of the parent node, given a split value.\n",
    "- A function `gini_score()`, which, given a certain split, computes the gini for the left node, the gini for the right node, and the purity gain\n",
    "- A function `best_split()` which loops over the former two functions to find the best split. "
   ]
  },
  {
   "cell_type": "markdown",
   "metadata": {},
   "source": [
    "Let's start by creating the `split()` function. This function takes three arguments, the first one is the column name, which should be a string, the second one is the value that represents the split (in this example, representing a certain age), and as a third argument the name of the data set.\n",
    "\n",
    "In the cell below, complete the `split` function. This function will take in a column name, value, and a DataFrame.  For any data in the named column less than or equal to `value` parameter, the function should store these rows in a variable called `data_left`.  Any rows with a value in `col_name` greater than `value` should be stored in `data_right`.  The function should return `data_left, data_right`."
   ]
  },
  {
   "cell_type": "code",
   "execution_count": 4,
   "metadata": {},
   "outputs": [],
   "source": [
    "def split(col_name, value, data):\n",
    "    #split the data in 2 given a column name and the value\n",
    "    data_left = data.loc[data[col_name] <= value]\n",
    "    data_right = data.loc[data[col_name] > value]\n",
    "    return data_left, data_right"
   ]
  },
  {
   "cell_type": "markdown",
   "metadata": {},
   "source": [
    "Let's use our newly created function on the column \"age\" (for this data the only option), and look at the age 44."
   ]
  },
  {
   "cell_type": "code",
   "execution_count": 6,
   "metadata": {},
   "outputs": [],
   "source": [
    "data_left, data_right = split('age',44,data)"
   ]
  },
  {
   "cell_type": "markdown",
   "metadata": {},
   "source": [
    "Now, inspect `data_left` and `data_right`."
   ]
  },
  {
   "cell_type": "code",
   "execution_count": 7,
   "metadata": {},
   "outputs": [
    {
     "data": {
      "text/html": [
       "<div>\n",
       "<style scoped>\n",
       "    .dataframe tbody tr th:only-of-type {\n",
       "        vertical-align: middle;\n",
       "    }\n",
       "\n",
       "    .dataframe tbody tr th {\n",
       "        vertical-align: top;\n",
       "    }\n",
       "\n",
       "    .dataframe thead th {\n",
       "        text-align: right;\n",
       "    }\n",
       "</style>\n",
       "<table border=\"1\" class=\"dataframe\">\n",
       "  <thead>\n",
       "    <tr style=\"text-align: right;\">\n",
       "      <th></th>\n",
       "      <th>age</th>\n",
       "      <th>label</th>\n",
       "    </tr>\n",
       "  </thead>\n",
       "  <tbody>\n",
       "    <tr>\n",
       "      <th>0</th>\n",
       "      <td>19</td>\n",
       "      <td>1</td>\n",
       "    </tr>\n",
       "    <tr>\n",
       "      <th>1</th>\n",
       "      <td>19</td>\n",
       "      <td>0</td>\n",
       "    </tr>\n",
       "    <tr>\n",
       "      <th>2</th>\n",
       "      <td>20</td>\n",
       "      <td>1</td>\n",
       "    </tr>\n",
       "    <tr>\n",
       "      <th>3</th>\n",
       "      <td>21</td>\n",
       "      <td>0</td>\n",
       "    </tr>\n",
       "    <tr>\n",
       "      <th>4</th>\n",
       "      <td>22</td>\n",
       "      <td>1</td>\n",
       "    </tr>\n",
       "    <tr>\n",
       "      <th>5</th>\n",
       "      <td>23</td>\n",
       "      <td>1</td>\n",
       "    </tr>\n",
       "    <tr>\n",
       "      <th>6</th>\n",
       "      <td>26</td>\n",
       "      <td>1</td>\n",
       "    </tr>\n",
       "    <tr>\n",
       "      <th>7</th>\n",
       "      <td>28</td>\n",
       "      <td>1</td>\n",
       "    </tr>\n",
       "    <tr>\n",
       "      <th>8</th>\n",
       "      <td>29</td>\n",
       "      <td>1</td>\n",
       "    </tr>\n",
       "    <tr>\n",
       "      <th>9</th>\n",
       "      <td>30</td>\n",
       "      <td>1</td>\n",
       "    </tr>\n",
       "    <tr>\n",
       "      <th>10</th>\n",
       "      <td>31</td>\n",
       "      <td>1</td>\n",
       "    </tr>\n",
       "    <tr>\n",
       "      <th>11</th>\n",
       "      <td>35</td>\n",
       "      <td>1</td>\n",
       "    </tr>\n",
       "    <tr>\n",
       "      <th>12</th>\n",
       "      <td>37</td>\n",
       "      <td>1</td>\n",
       "    </tr>\n",
       "    <tr>\n",
       "      <th>13</th>\n",
       "      <td>38</td>\n",
       "      <td>1</td>\n",
       "    </tr>\n",
       "    <tr>\n",
       "      <th>14</th>\n",
       "      <td>39</td>\n",
       "      <td>1</td>\n",
       "    </tr>\n",
       "    <tr>\n",
       "      <th>15</th>\n",
       "      <td>40</td>\n",
       "      <td>1</td>\n",
       "    </tr>\n",
       "    <tr>\n",
       "      <th>16</th>\n",
       "      <td>42</td>\n",
       "      <td>1</td>\n",
       "    </tr>\n",
       "    <tr>\n",
       "      <th>17</th>\n",
       "      <td>44</td>\n",
       "      <td>1</td>\n",
       "    </tr>\n",
       "    <tr>\n",
       "      <th>21</th>\n",
       "      <td>35</td>\n",
       "      <td>0</td>\n",
       "    </tr>\n",
       "    <tr>\n",
       "      <th>22</th>\n",
       "      <td>36</td>\n",
       "      <td>0</td>\n",
       "    </tr>\n",
       "    <tr>\n",
       "      <th>23</th>\n",
       "      <td>37</td>\n",
       "      <td>0</td>\n",
       "    </tr>\n",
       "    <tr>\n",
       "      <th>24</th>\n",
       "      <td>38</td>\n",
       "      <td>0</td>\n",
       "    </tr>\n",
       "    <tr>\n",
       "      <th>25</th>\n",
       "      <td>39</td>\n",
       "      <td>0</td>\n",
       "    </tr>\n",
       "    <tr>\n",
       "      <th>26</th>\n",
       "      <td>44</td>\n",
       "      <td>0</td>\n",
       "    </tr>\n",
       "  </tbody>\n",
       "</table>\n",
       "</div>"
      ],
      "text/plain": [
       "    age  label\n",
       "0    19      1\n",
       "1    19      0\n",
       "2    20      1\n",
       "3    21      0\n",
       "4    22      1\n",
       "5    23      1\n",
       "6    26      1\n",
       "7    28      1\n",
       "8    29      1\n",
       "9    30      1\n",
       "10   31      1\n",
       "11   35      1\n",
       "12   37      1\n",
       "13   38      1\n",
       "14   39      1\n",
       "15   40      1\n",
       "16   42      1\n",
       "17   44      1\n",
       "21   35      0\n",
       "22   36      0\n",
       "23   37      0\n",
       "24   38      0\n",
       "25   39      0\n",
       "26   44      0"
      ]
     },
     "execution_count": 7,
     "metadata": {},
     "output_type": "execute_result"
    }
   ],
   "source": [
    "data_left"
   ]
  },
  {
   "cell_type": "code",
   "execution_count": 8,
   "metadata": {},
   "outputs": [
    {
     "data": {
      "text/html": [
       "<div>\n",
       "<style scoped>\n",
       "    .dataframe tbody tr th:only-of-type {\n",
       "        vertical-align: middle;\n",
       "    }\n",
       "\n",
       "    .dataframe tbody tr th {\n",
       "        vertical-align: top;\n",
       "    }\n",
       "\n",
       "    .dataframe thead th {\n",
       "        text-align: right;\n",
       "    }\n",
       "</style>\n",
       "<table border=\"1\" class=\"dataframe\">\n",
       "  <thead>\n",
       "    <tr style=\"text-align: right;\">\n",
       "      <th></th>\n",
       "      <th>age</th>\n",
       "      <th>label</th>\n",
       "    </tr>\n",
       "  </thead>\n",
       "  <tbody>\n",
       "    <tr>\n",
       "      <th>18</th>\n",
       "      <td>46</td>\n",
       "      <td>1</td>\n",
       "    </tr>\n",
       "    <tr>\n",
       "      <th>19</th>\n",
       "      <td>48</td>\n",
       "      <td>1</td>\n",
       "    </tr>\n",
       "    <tr>\n",
       "      <th>20</th>\n",
       "      <td>49</td>\n",
       "      <td>1</td>\n",
       "    </tr>\n",
       "    <tr>\n",
       "      <th>27</th>\n",
       "      <td>45</td>\n",
       "      <td>0</td>\n",
       "    </tr>\n",
       "    <tr>\n",
       "      <th>28</th>\n",
       "      <td>47</td>\n",
       "      <td>0</td>\n",
       "    </tr>\n",
       "    <tr>\n",
       "      <th>29</th>\n",
       "      <td>49</td>\n",
       "      <td>0</td>\n",
       "    </tr>\n",
       "    <tr>\n",
       "      <th>30</th>\n",
       "      <td>50</td>\n",
       "      <td>0</td>\n",
       "    </tr>\n",
       "    <tr>\n",
       "      <th>31</th>\n",
       "      <td>53</td>\n",
       "      <td>0</td>\n",
       "    </tr>\n",
       "    <tr>\n",
       "      <th>32</th>\n",
       "      <td>54</td>\n",
       "      <td>0</td>\n",
       "    </tr>\n",
       "    <tr>\n",
       "      <th>33</th>\n",
       "      <td>59</td>\n",
       "      <td>0</td>\n",
       "    </tr>\n",
       "    <tr>\n",
       "      <th>34</th>\n",
       "      <td>60</td>\n",
       "      <td>0</td>\n",
       "    </tr>\n",
       "    <tr>\n",
       "      <th>35</th>\n",
       "      <td>62</td>\n",
       "      <td>0</td>\n",
       "    </tr>\n",
       "    <tr>\n",
       "      <th>36</th>\n",
       "      <td>63</td>\n",
       "      <td>0</td>\n",
       "    </tr>\n",
       "    <tr>\n",
       "      <th>37</th>\n",
       "      <td>64</td>\n",
       "      <td>0</td>\n",
       "    </tr>\n",
       "    <tr>\n",
       "      <th>38</th>\n",
       "      <td>65</td>\n",
       "      <td>1</td>\n",
       "    </tr>\n",
       "    <tr>\n",
       "      <th>39</th>\n",
       "      <td>67</td>\n",
       "      <td>0</td>\n",
       "    </tr>\n",
       "    <tr>\n",
       "      <th>40</th>\n",
       "      <td>68</td>\n",
       "      <td>1</td>\n",
       "    </tr>\n",
       "    <tr>\n",
       "      <th>41</th>\n",
       "      <td>68</td>\n",
       "      <td>0</td>\n",
       "    </tr>\n",
       "  </tbody>\n",
       "</table>\n",
       "</div>"
      ],
      "text/plain": [
       "    age  label\n",
       "18   46      1\n",
       "19   48      1\n",
       "20   49      1\n",
       "27   45      0\n",
       "28   47      0\n",
       "29   49      0\n",
       "30   50      0\n",
       "31   53      0\n",
       "32   54      0\n",
       "33   59      0\n",
       "34   60      0\n",
       "35   62      0\n",
       "36   63      0\n",
       "37   64      0\n",
       "38   65      1\n",
       "39   67      0\n",
       "40   68      1\n",
       "41   68      0"
      ]
     },
     "execution_count": 8,
     "metadata": {},
     "output_type": "execute_result"
    }
   ],
   "source": [
    "data_right"
   ]
  },
  {
   "cell_type": "markdown",
   "metadata": {},
   "source": [
    "### Gini Score\n",
    "\n",
    "Next, we'll create a function to determine the **_gini score_** for a given split.  \n",
    "\n",
    "Complete the `gini_score` function in the cell below.  Since this function is a bit complicated, comments have been provided to help simplify writing it. \n",
    "\n",
    "`gini_score` should:\n",
    "* Determine the size of each split, as well as the total number of samples.\n",
    "* Determine the probability of seeing a given outcome (watches or doesn't watch GoT) in both splits. \n",
    "* Square the probability and sum then sum the squares for a given node. \n",
    "* Calculate the gini coefficient for both splits (1 minus the value calculated in the last step)\n",
    "* Calculate the weighted gini scores for each side by multiplying the proportion of the total sample that side makes up (size of side / number of total samples).\n",
    "* Calculate the gain by adding the two weighted gini scores together.  "
   ]
  },
  {
   "cell_type": "code",
   "execution_count": 9,
   "metadata": {},
   "outputs": [],
   "source": [
    "def gini_score(data_left, data_right):\n",
    "    \n",
    "    # amount of instances flowing in the left vs right node\n",
    "    size_left= len(data_left)\n",
    "    size_right = len(data_right)\n",
    "    n_samples = size_left + size_right\n",
    "    \n",
    "    # respective chances of seeing each outcome in the left vs right node \n",
    "    p_0L = (data_left['label']==0).sum() / size_left\n",
    "    p_1L = (data_left['label'] == 1).sum() / size_left\n",
    "    p_0R = (data_right['label'] == 0).sum() / size_right\n",
    "    p_1R = (data_right['label'] == 1).sum() / size_right\n",
    "    \n",
    "    #take the squares and sum over each node\n",
    "    score_L = (p_0L*p_0L)+(p_1L*p_1L)\n",
    "    score_R = (p_0R*p_0R)+(p_1R*p_1R)\n",
    "    \n",
    "    # left node and right node ginis\n",
    "    gini_L = 1- score_L\n",
    "    gini_R = 1- score_R\n",
    "    \n",
    "    #weighted ginis\n",
    "    weight_gini_L = gini_L * (size_left / n_samples)\n",
    "    weight_gini_R = gini_R * (size_right / n_samples)\n",
    "    \n",
    "    # The gains (here, we don't compute the root gini again. This value should be mimimized.)\n",
    "    gain = weight_gini_L + weight_gini_R\n",
    "    return gini_L, gini_R, gain"
   ]
  },
  {
   "cell_type": "markdown",
   "metadata": {},
   "source": [
    "Now, let's call our function on the split we've already made to test that everything works.  \n",
    "\n",
    "In the cell below, call `gini_score` and pass in `data_left` and `data_right`."
   ]
  },
  {
   "cell_type": "code",
   "execution_count": 10,
   "metadata": {},
   "outputs": [
    {
     "data": {
      "text/plain": [
       "(0.4444444444444444, 0.4012345679012346, 0.42592592592592593)"
      ]
     },
     "execution_count": 10,
     "metadata": {},
     "output_type": "execute_result"
    }
   ],
   "source": [
    "gini_score(data_left, data_right)\n",
    "# Expected Output: (0.4444444444444444, 0.4012345679012346, 0.42592592592592593)"
   ]
  },
  {
   "cell_type": "markdown",
   "metadata": {},
   "source": [
    "### Determining the Optimal Split,\n",
    "\n",
    "Now that we have a function to split our data on a given value, and another function to determine how good this split using gini score, we'll write one more function to find the split that produces the best possible gini scores,\n",
    "    \n",
    "In the cell below, complete the best split function.  As with the previous function, we have included comments to help make coding it less complicated.\n",
    "   \n",
    "The function should:\n",
    "* Determine the range of the search space (between the minimum and maximum values that column contains)\n",
    "* Iterate through that search space.  For every value:\n",
    "* Split the data using our split function\n",
    "* Calculate the for each side of the split, as well as the gain\n",
    "    * If the gain is better (lower) than the current best score, update the `best` values,\n",
    "* When every possible value in search space has been tested, return an `output` dictionary containing the best value to split on, the best gain score, the best splits, and the best gini scores for those groups. \n"
   ]
  },
  {
   "cell_type": "code",
   "execution_count": 11,
   "metadata": {},
   "outputs": [],
   "source": [
    "def best_split(data, col_name):\n",
    "    # make sure you have the correct range to loop over\n",
    "    min_val = data[col_name].min()\n",
    "    max_val = data[col_name].max()\n",
    "    best_score = 999\n",
    "    # loop over all the ages \n",
    "    for i in range(min_val, max_val):\n",
    "        data_left, data_right = split(col_name, i, data)\n",
    "        gini_l, gini_r, gain = gini_score(data_left, data_right)\n",
    "        # update if gain is lower than any previously observed gain \n",
    "        if gain < best_score:\n",
    "            best_val = i\n",
    "            best_score = gain\n",
    "            best_groups = data_left, data_right\n",
    "            best_ginis= gini_l, gini_r\n",
    "    output = {}\n",
    "    # create a dictionary with the best value, the best gain, the best groups and the best ginis\n",
    "    output['val'] = best_val \n",
    "    output['gain'] = best_score\n",
    "    output['groups'] = best_groups  \n",
    "    output['ginis'] = best_ginis\n",
    "\n",
    "    return output\n"
   ]
  },
  {
   "cell_type": "markdown",
   "metadata": {},
   "source": [
    "Now, let's test that our new function works."
   ]
  },
  {
   "cell_type": "code",
   "execution_count": 12,
   "metadata": {},
   "outputs": [
    {
     "data": {
      "text/plain": [
       "49"
      ]
     },
     "execution_count": 12,
     "metadata": {},
     "output_type": "execute_result"
    }
   ],
   "source": [
    "best_output = best_split(data, \"age\")\n",
    "best_output['ginis']\n",
    "split_age = best_output['val']\n",
    "\n",
    "split_age"
   ]
  },
  {
   "cell_type": "markdown",
   "metadata": {},
   "source": [
    "#### Optional\n",
    "\n",
    "Uncomment and run the cell below to get a better idea for what the `best_split` function is actually doing during each iteration of the loop. "
   ]
  },
  {
   "cell_type": "code",
   "execution_count": 15,
   "metadata": {},
   "outputs": [
    {
     "name": "stdout",
     "output_type": "stream",
     "text": [
      "19\n",
      "0.5\n",
      "20\n",
      "0.4957264957264958\n",
      "21\n",
      "0.5\n",
      "22\n",
      "0.4972972972972973\n",
      "23\n",
      "0.4907407407407407\n",
      "24\n",
      "0.4907407407407407\n",
      "25\n",
      "0.4907407407407407\n",
      "26\n",
      "0.4816326530612246\n",
      "27\n",
      "0.4816326530612246\n",
      "28\n",
      "0.47058823529411764\n",
      "29\n",
      "0.4579124579124579\n",
      "30\n",
      "0.4437499999999999\n",
      "31\n",
      "0.4281524926686217\n",
      "32\n",
      "0.4281524926686217\n",
      "33\n",
      "0.4281524926686217\n",
      "34\n",
      "0.4281524926686217\n",
      "35\n",
      "0.4350132625994695\n",
      "36\n",
      "0.4540816326530613\n",
      "37\n",
      "0.4567307692307693\n",
      "38\n",
      "0.4583333333333333\n",
      "39\n",
      "0.4590909090909091\n",
      "40\n",
      "0.4444444444444444\n",
      "41\n",
      "0.4444444444444444\n",
      "42\n",
      "0.4272727272727273\n",
      "43\n",
      "0.4272727272727273\n",
      "44\n",
      "0.42592592592592593\n",
      "45\n",
      "0.44235294117647056\n",
      "46\n",
      "0.4230769230769231\n",
      "47\n",
      "0.4395061728395062\n",
      "48\n",
      "0.4183673469387755\n",
      "49\n",
      "0.4111111111111111\n",
      "50\n",
      "0.4281524926686217\n",
      "51\n",
      "0.4281524926686217\n",
      "52\n",
      "0.4281524926686217\n",
      "53\n",
      "0.4437499999999999\n",
      "54\n",
      "0.4579124579124579\n",
      "55\n",
      "0.4579124579124579\n",
      "56\n",
      "0.4579124579124579\n",
      "57\n",
      "0.4579124579124579\n",
      "58\n",
      "0.4579124579124579\n",
      "59\n",
      "0.47058823529411764\n",
      "60\n",
      "0.4816326530612246\n",
      "61\n",
      "0.4816326530612246\n",
      "62\n",
      "0.4907407407407407\n",
      "63\n",
      "0.4972972972972973\n",
      "64\n",
      "0.5\n",
      "65\n",
      "0.4957264957264958\n",
      "66\n",
      "0.4957264957264958\n",
      "67\n",
      "0.5\n"
     ]
    }
   ],
   "source": [
    "# If you want to see what's going on in each loop...\n",
    "min_age=19\n",
    "max_age=68\n",
    "for i in range(min_age, max_age):\n",
    "    data_left, data_right = split(\"age\", i, data)\n",
    "    data_l,data_r, gini = gini_score(data_left, data_right)\n",
    "    print(i)   \n",
    "    print(gini)"
   ]
  },
  {
   "cell_type": "markdown",
   "metadata": {},
   "source": [
    "### 1.3 Use scikit learn and verify answer"
   ]
  },
  {
   "cell_type": "markdown",
   "metadata": {},
   "source": [
    "We'll use scikit-learn to create a decision tree. \n",
    "\n",
    "Run the cell below to import the `tree` module from sklearn."
   ]
  },
  {
   "cell_type": "code",
   "execution_count": 16,
   "metadata": {},
   "outputs": [],
   "source": [
    "from sklearn import tree"
   ]
  },
  {
   "cell_type": "markdown",
   "metadata": {},
   "source": [
    "Now, create a `DecisionTreeClassifier` object. When creating the tree, set the `criterion` equal to `gini`, and the `max_depth` equal to `1`."
   ]
  },
  {
   "cell_type": "code",
   "execution_count": 25,
   "metadata": {},
   "outputs": [],
   "source": [
    "clf_GoT = tree.DecisionTreeClassifier(criterion=\"gini\",max_depth=1)"
   ]
  },
  {
   "cell_type": "markdown",
   "metadata": {},
   "source": [
    "Now we can use `clf.fit` with \"age\" as a first argument and \"label\" as a second argument. If you only have 1 predictor, you need to reshape your predictor using `.reshape(-1, 1)`. \n",
    "\n",
    "Run the cell below to fit our Decision Tree Classifier object to the data."
   ]
  },
  {
   "cell_type": "code",
   "execution_count": 26,
   "metadata": {},
   "outputs": [],
   "source": [
    "GoT_tree = clf_GoT.fit(data['age'].values.reshape(-1, 1), data['label'])"
   ]
  },
  {
   "cell_type": "code",
   "execution_count": 27,
   "metadata": {},
   "outputs": [
    {
     "data": {
      "text/plain": [
       "DecisionTreeClassifier(class_weight=None, criterion='gini', max_depth=1,\n",
       "            max_features=None, max_leaf_nodes=None,\n",
       "            min_impurity_decrease=0.0, min_impurity_split=None,\n",
       "            min_samples_leaf=1, min_samples_split=2,\n",
       "            min_weight_fraction_leaf=0.0, presort=False, random_state=None,\n",
       "            splitter='best')"
      ]
     },
     "execution_count": 27,
     "metadata": {},
     "output_type": "execute_result"
    }
   ],
   "source": [
    "GoT_tree"
   ]
  },
  {
   "cell_type": "markdown",
   "metadata": {},
   "source": [
    "#### Optional: Visualize the Fitted Decision Tree\n",
    "\n",
    "Some 3rd party libraries make it easy to create a visual representation of our fitted Decision Tree Classifier.  Run the cell below to create the visualization.\n",
    "\n",
    "**_NOTE:_**  The code below relies on a library called `graphviz` which is notoriously troublesome to get working on some machines. If the code doesn't work immediately, feel free to try and debug it by googling the error message--if it doesn't work, it's probably only because you need to install a missing dependency. If you can't get the visualization to work, feel free to skip this section!"
   ]
  },
  {
   "cell_type": "code",
   "execution_count": 29,
   "metadata": {},
   "outputs": [],
   "source": [
    "# Uncomment this code and run this cell to visualize the Tree\n",
    "import graphviz \n",
    "from sklearn.tree import export_graphviz\n",
    "GoT_graph = tree.export_graphviz(GoT_tree, out_file=None) \n",
    "graph = graphviz.Source(GoT_graph)"
   ]
  },
  {
   "cell_type": "code",
   "execution_count": 31,
   "metadata": {},
   "outputs": [
    {
     "data": {
      "image/svg+xml": [
       "<?xml version=\"1.0\" encoding=\"UTF-8\" standalone=\"no\"?>\n",
       "<!DOCTYPE svg PUBLIC \"-//W3C//DTD SVG 1.1//EN\"\n",
       " \"http://www.w3.org/Graphics/SVG/1.1/DTD/svg11.dtd\">\n",
       "<!-- Generated by graphviz version 2.40.1 (20161225.0304)\n",
       " -->\n",
       "<!-- Title: Tree Pages: 1 -->\n",
       "<svg width=\"230pt\" height=\"158pt\"\n",
       " viewBox=\"0.00 0.00 229.78 158.00\" xmlns=\"http://www.w3.org/2000/svg\" xmlns:xlink=\"http://www.w3.org/1999/xlink\">\n",
       "<g id=\"graph0\" class=\"graph\" transform=\"scale(1 1) rotate(0) translate(4 154)\">\n",
       "<title>Tree</title>\n",
       "<polygon fill=\"#ffffff\" stroke=\"transparent\" points=\"-4,4 -4,-154 225.7808,-154 225.7808,4 -4,4\"/>\n",
       "<!-- 0 -->\n",
       "<g id=\"node1\" class=\"node\">\n",
       "<title>0</title>\n",
       "<polygon fill=\"none\" stroke=\"#000000\" points=\"165.0503,-150 59.9741,-150 59.9741,-86 165.0503,-86 165.0503,-150\"/>\n",
       "<text text-anchor=\"middle\" x=\"112.5122\" y=\"-134.8\" font-family=\"Times,serif\" font-size=\"14.00\" fill=\"#000000\">X[0] &lt;= 49.5</text>\n",
       "<text text-anchor=\"middle\" x=\"112.5122\" y=\"-120.8\" font-family=\"Times,serif\" font-size=\"14.00\" fill=\"#000000\">gini = 0.5</text>\n",
       "<text text-anchor=\"middle\" x=\"112.5122\" y=\"-106.8\" font-family=\"Times,serif\" font-size=\"14.00\" fill=\"#000000\">samples = 42</text>\n",
       "<text text-anchor=\"middle\" x=\"112.5122\" y=\"-92.8\" font-family=\"Times,serif\" font-size=\"14.00\" fill=\"#000000\">value = [21, 21]</text>\n",
       "</g>\n",
       "<!-- 1 -->\n",
       "<g id=\"node2\" class=\"node\">\n",
       "<title>1</title>\n",
       "<polygon fill=\"none\" stroke=\"#000000\" points=\"105.0366,-50 -.0122,-50 -.0122,0 105.0366,0 105.0366,-50\"/>\n",
       "<text text-anchor=\"middle\" x=\"52.5122\" y=\"-34.8\" font-family=\"Times,serif\" font-size=\"14.00\" fill=\"#000000\">gini = 0.464</text>\n",
       "<text text-anchor=\"middle\" x=\"52.5122\" y=\"-20.8\" font-family=\"Times,serif\" font-size=\"14.00\" fill=\"#000000\">samples = 30</text>\n",
       "<text text-anchor=\"middle\" x=\"52.5122\" y=\"-6.8\" font-family=\"Times,serif\" font-size=\"14.00\" fill=\"#000000\">value = [11, 19]</text>\n",
       "</g>\n",
       "<!-- 0&#45;&gt;1 -->\n",
       "<g id=\"edge1\" class=\"edge\">\n",
       "<title>0&#45;&gt;1</title>\n",
       "<path fill=\"none\" stroke=\"#000000\" d=\"M91.8636,-85.9947C86.1687,-77.1676 79.9743,-67.5662 74.2213,-58.6491\"/>\n",
       "<polygon fill=\"#000000\" stroke=\"#000000\" points=\"77.0126,-56.5196 68.6503,-50.014 71.1306,-60.3145 77.0126,-56.5196\"/>\n",
       "<text text-anchor=\"middle\" x=\"63.3793\" y=\"-70.2521\" font-family=\"Times,serif\" font-size=\"14.00\" fill=\"#000000\">True</text>\n",
       "</g>\n",
       "<!-- 2 -->\n",
       "<g id=\"node3\" class=\"node\">\n",
       "<title>2</title>\n",
       "<polygon fill=\"none\" stroke=\"#000000\" points=\"221.5504,-50 123.474,-50 123.474,0 221.5504,0 221.5504,-50\"/>\n",
       "<text text-anchor=\"middle\" x=\"172.5122\" y=\"-34.8\" font-family=\"Times,serif\" font-size=\"14.00\" fill=\"#000000\">gini = 0.278</text>\n",
       "<text text-anchor=\"middle\" x=\"172.5122\" y=\"-20.8\" font-family=\"Times,serif\" font-size=\"14.00\" fill=\"#000000\">samples = 12</text>\n",
       "<text text-anchor=\"middle\" x=\"172.5122\" y=\"-6.8\" font-family=\"Times,serif\" font-size=\"14.00\" fill=\"#000000\">value = [10, 2]</text>\n",
       "</g>\n",
       "<!-- 0&#45;&gt;2 -->\n",
       "<g id=\"edge2\" class=\"edge\">\n",
       "<title>0&#45;&gt;2</title>\n",
       "<path fill=\"none\" stroke=\"#000000\" d=\"M133.1608,-85.9947C138.8557,-77.1676 145.0501,-67.5662 150.8031,-58.6491\"/>\n",
       "<polygon fill=\"#000000\" stroke=\"#000000\" points=\"153.8939,-60.3145 156.3741,-50.014 148.0118,-56.5196 153.8939,-60.3145\"/>\n",
       "<text text-anchor=\"middle\" x=\"161.6451\" y=\"-70.2521\" font-family=\"Times,serif\" font-size=\"14.00\" fill=\"#000000\">False</text>\n",
       "</g>\n",
       "</g>\n",
       "</svg>\n"
      ],
      "text/plain": [
       "<graphviz.files.Source at 0x1a08b62518>"
      ]
     },
     "execution_count": 31,
     "metadata": {},
     "output_type": "execute_result"
    }
   ],
   "source": [
    "# Uncomment this code and run this cell to visualize the Tree\n",
    "export_graphviz(GoT_tree, out_file=\"mytree.dot\")\n",
    "with open(\"mytree.dot\") as f: dot_graph = f.read()\n",
    "graphviz.Source(dot_graph)"
   ]
  },
  {
   "cell_type": "markdown",
   "metadata": {},
   "source": [
    "We see that scikit learn generated the same split! Now, let's verify if we computed the correct gini measures. "
   ]
  },
  {
   "cell_type": "markdown",
   "metadata": {},
   "source": [
    "## 2. US salaries data set"
   ]
  },
  {
   "cell_type": "markdown",
   "metadata": {},
   "source": [
    "### 2.1 Data pre-processing"
   ]
  },
  {
   "cell_type": "markdown",
   "metadata": {},
   "source": [
    "The salary data set was extracted from the census bureau database and contains salary information. The goal is to use this data set and to try to draw conclusions regarding what drives salaries. More specifically, the target variable is categorical (> 50k; <= 50 k)"
   ]
  },
  {
   "cell_type": "code",
   "execution_count": 32,
   "metadata": {},
   "outputs": [
    {
     "name": "stderr",
     "output_type": "stream",
     "text": [
      "/anaconda3/lib/python3.6/site-packages/sklearn/cross_validation.py:41: DeprecationWarning: This module was deprecated in version 0.18 in favor of the model_selection module into which all the refactored classes and functions are moved. Also note that the interface of the new CV iterators are different from that of this module. This module will be removed in 0.20.\n",
      "  \"This module will be removed in 0.20.\", DeprecationWarning)\n"
     ]
    }
   ],
   "source": [
    "import pandas as pd\n",
    "import numpy as np\n",
    "import statsmodels as sm\n",
    "import sklearn as skl\n",
    "import sklearn.preprocessing as preprocessing\n",
    "import sklearn.linear_model as linear_model\n",
    "import sklearn.cross_validation as cross_validation\n",
    "from sklearn.cross_validation import train_test_split\n",
    "import sklearn.metrics as metrics\n",
    "import sklearn.tree as tree\n",
    "import seaborn as sns"
   ]
  },
  {
   "cell_type": "code",
   "execution_count": 33,
   "metadata": {},
   "outputs": [],
   "source": [
    "salaries = pd.read_csv(\"salaries_final.csv\", index_col = 0)"
   ]
  },
  {
   "cell_type": "code",
   "execution_count": 34,
   "metadata": {},
   "outputs": [
    {
     "data": {
      "text/html": [
       "<div>\n",
       "<style scoped>\n",
       "    .dataframe tbody tr th:only-of-type {\n",
       "        vertical-align: middle;\n",
       "    }\n",
       "\n",
       "    .dataframe tbody tr th {\n",
       "        vertical-align: top;\n",
       "    }\n",
       "\n",
       "    .dataframe thead th {\n",
       "        text-align: right;\n",
       "    }\n",
       "</style>\n",
       "<table border=\"1\" class=\"dataframe\">\n",
       "  <thead>\n",
       "    <tr style=\"text-align: right;\">\n",
       "      <th></th>\n",
       "      <th>Age</th>\n",
       "      <th>Education</th>\n",
       "      <th>Occupation</th>\n",
       "      <th>Relationship</th>\n",
       "      <th>Race</th>\n",
       "      <th>Sex</th>\n",
       "      <th>Target</th>\n",
       "    </tr>\n",
       "  </thead>\n",
       "  <tbody>\n",
       "    <tr>\n",
       "      <th>32556</th>\n",
       "      <td>27</td>\n",
       "      <td>Assoc-acdm</td>\n",
       "      <td>Tech-support</td>\n",
       "      <td>Wife</td>\n",
       "      <td>White</td>\n",
       "      <td>Female</td>\n",
       "      <td>&lt;=50K</td>\n",
       "    </tr>\n",
       "    <tr>\n",
       "      <th>32557</th>\n",
       "      <td>40</td>\n",
       "      <td>HS-grad</td>\n",
       "      <td>Machine-op-inspct</td>\n",
       "      <td>Husband</td>\n",
       "      <td>White</td>\n",
       "      <td>Male</td>\n",
       "      <td>&gt;50K</td>\n",
       "    </tr>\n",
       "    <tr>\n",
       "      <th>32558</th>\n",
       "      <td>58</td>\n",
       "      <td>HS-grad</td>\n",
       "      <td>Adm-clerical</td>\n",
       "      <td>Unmarried</td>\n",
       "      <td>White</td>\n",
       "      <td>Female</td>\n",
       "      <td>&lt;=50K</td>\n",
       "    </tr>\n",
       "    <tr>\n",
       "      <th>32559</th>\n",
       "      <td>22</td>\n",
       "      <td>HS-grad</td>\n",
       "      <td>Adm-clerical</td>\n",
       "      <td>Own-child</td>\n",
       "      <td>White</td>\n",
       "      <td>Male</td>\n",
       "      <td>&lt;=50K</td>\n",
       "    </tr>\n",
       "    <tr>\n",
       "      <th>32560</th>\n",
       "      <td>52</td>\n",
       "      <td>HS-grad</td>\n",
       "      <td>Exec-managerial</td>\n",
       "      <td>Wife</td>\n",
       "      <td>White</td>\n",
       "      <td>Female</td>\n",
       "      <td>&gt;50K</td>\n",
       "    </tr>\n",
       "  </tbody>\n",
       "</table>\n",
       "</div>"
      ],
      "text/plain": [
       "       Age   Education         Occupation Relationship   Race     Sex Target\n",
       "32556   27  Assoc-acdm       Tech-support         Wife  White  Female  <=50K\n",
       "32557   40     HS-grad  Machine-op-inspct      Husband  White    Male   >50K\n",
       "32558   58     HS-grad       Adm-clerical    Unmarried  White  Female  <=50K\n",
       "32559   22     HS-grad       Adm-clerical    Own-child  White    Male  <=50K\n",
       "32560   52     HS-grad    Exec-managerial         Wife  White  Female   >50K"
      ]
     },
     "execution_count": 34,
     "metadata": {},
     "output_type": "execute_result"
    }
   ],
   "source": [
    "salaries.tail()"
   ]
  },
  {
   "cell_type": "markdown",
   "metadata": {},
   "source": [
    "The dataset \"salaries\" contains 6 predictors, and one outcome variable, the target salary <= 50k/ >50k."
   ]
  },
  {
   "cell_type": "markdown",
   "metadata": {},
   "source": [
    "The 6 predictors are:\n",
    "- `Age`: continuous.\n",
    "\n",
    "- `Education`: Categorical. Bachelors, Some-college, 11th, HS-grad, Prof-school, Assoc-acdm, Assoc-voc, 9th, 7th-8th, 12th, \n",
    "Masters, 1st-4th, 10th, Doctorate, 5th-6th, Preschool.\n",
    "\n",
    "- `Occupation`: Tech-support, Craft-repair, Other-service, Sales, Exec-managerial, Prof-specialty, Handlers-cleaners, Machine-op-inspct, Adm-clerical, Farming-fishing, Transport-moving, Priv-house-serv, Protective-serv, Armed-Forces.\n",
    "\n",
    "- `Relationship`: Wife, Own-child, Husband, Not-in-family, Other-relative, Unmarried.\n",
    "\n",
    "- `Race`: White, Asian-Pac-Islander, Amer-Indian-Eskimo, Other, Black.\n",
    "\n",
    "- `Sex`: Female, Male."
   ]
  },
  {
   "cell_type": "markdown",
   "metadata": {},
   "source": [
    "It's important to know that scikit learn needs to get dummies as an input for categorical variables. Luckily, we can use the `dmatrices` from the patsy library to get our data in the correct shape. From our 7 predictors, we only have 2 continuous variables (\"Age\" and \"Education-Num\"). The other 5 are all categorical.\n",
    "\n",
    "In order to deal use categorical data in the model, we'll need to **_One-Hot Encode_** the categorical data by creating boolean dummy columns for each different category in each categorical column. Pandas provides a way to do this, but we'll explore that in a further lab.  In this lab, we'll make use of the `patsy` library's `dmatrices` module. \n",
    "\n",
    "Run the cell below to split our target from the dataset, and transform our dataset into a one-hot encoded version. "
   ]
  },
  {
   "cell_type": "code",
   "execution_count": 35,
   "metadata": {},
   "outputs": [],
   "source": [
    "from patsy import dmatrices\n",
    "target, data = dmatrices('Target ~ Age + C(Education) + \\\n",
    "                  C(Occupation) + C(Relationship) + C(Race) + C(Sex)',\n",
    "                  salaries, return_type = \"dataframe\")"
   ]
  },
  {
   "cell_type": "markdown",
   "metadata": {},
   "source": [
    "Now, use the appropriate method to split our our data and labels into training and testing sets. "
   ]
  },
  {
   "cell_type": "code",
   "execution_count": 36,
   "metadata": {},
   "outputs": [],
   "source": [
    "data_train, data_test,target_train, target_test = train_test_split(data, target, \n",
    "                                                                   test_size = 0.25)"
   ]
  },
  {
   "cell_type": "markdown",
   "metadata": {},
   "source": [
    "### 2.2 Creating trees\n",
    "\n",
    "Now that we have prepared our data, we'll create a large Decision Tree to see how it does.\n",
    "\n",
    "In the cell below, create a `DecisionTreeClassifier` object, and set the `criterion` parameter to `'gini'`, as well as the `max_depth` parameter to `12`.\n",
    "\n",
    "Then, run the cell below it to `fit()` our model to the data."
   ]
  },
  {
   "cell_type": "code",
   "execution_count": 37,
   "metadata": {},
   "outputs": [
    {
     "data": {
      "text/plain": [
       "DecisionTreeClassifier(class_weight=None, criterion='gini', max_depth=1,\n",
       "            max_features=None, max_leaf_nodes=None,\n",
       "            min_impurity_decrease=0.0, min_impurity_split=None,\n",
       "            min_samples_leaf=1, min_samples_split=2,\n",
       "            min_weight_fraction_leaf=0.0, presort=False, random_state=None,\n",
       "            splitter='best')"
      ]
     },
     "execution_count": 37,
     "metadata": {},
     "output_type": "execute_result"
    }
   ],
   "source": [
    "from sklearn import tree\n",
    "\n",
    "sal_tree = tree.DecisionTreeClassifier(criterion=\"gini\",max_depth=1)\n",
    "sal_tree.fit(data_train, target_train.iloc[:,1])"
   ]
  },
  {
   "cell_type": "code",
   "execution_count": 38,
   "metadata": {},
   "outputs": [
    {
     "data": {
      "image/svg+xml": [
       "<?xml version=\"1.0\" encoding=\"UTF-8\" standalone=\"no\"?>\n",
       "<!DOCTYPE svg PUBLIC \"-//W3C//DTD SVG 1.1//EN\"\n",
       " \"http://www.w3.org/Graphics/SVG/1.1/DTD/svg11.dtd\">\n",
       "<!-- Generated by graphviz version 2.40.1 (20161225.0304)\n",
       " -->\n",
       "<!-- Title: Tree Pages: 1 -->\n",
       "<svg width=\"330pt\" height=\"186pt\"\n",
       " viewBox=\"0.00 0.00 329.56 186.00\" xmlns=\"http://www.w3.org/2000/svg\" xmlns:xlink=\"http://www.w3.org/1999/xlink\">\n",
       "<g id=\"graph0\" class=\"graph\" transform=\"scale(1 1) rotate(0) translate(4 182)\">\n",
       "<title>Tree</title>\n",
       "<polygon fill=\"#ffffff\" stroke=\"transparent\" points=\"-4,4 -4,-182 325.5566,-182 325.5566,4 -4,4\"/>\n",
       "<!-- 0 -->\n",
       "<g id=\"node1\" class=\"node\">\n",
       "<title>0</title>\n",
       "<path fill=\"none\" stroke=\"#000000\" d=\"M224.3356,-178C224.3356,-178 97.221,-178 97.221,-178 91.221,-178 85.221,-172 85.221,-166 85.221,-166 85.221,-112 85.221,-112 85.221,-106 91.221,-100 97.221,-100 97.221,-100 224.3356,-100 224.3356,-100 230.3356,-100 236.3356,-106 236.3356,-112 236.3356,-112 236.3356,-166 236.3356,-166 236.3356,-172 230.3356,-178 224.3356,-178\"/>\n",
       "<text text-anchor=\"middle\" x=\"160.7783\" y=\"-162.8\" font-family=\"Helvetica,sans-Serif\" font-size=\"14.00\" fill=\"#000000\">Age &lt;= 29.5</text>\n",
       "<text text-anchor=\"middle\" x=\"160.7783\" y=\"-148.8\" font-family=\"Helvetica,sans-Serif\" font-size=\"14.00\" fill=\"#000000\">gini = 0.365</text>\n",
       "<text text-anchor=\"middle\" x=\"160.7783\" y=\"-134.8\" font-family=\"Helvetica,sans-Serif\" font-size=\"14.00\" fill=\"#000000\">samples = 24420</text>\n",
       "<text text-anchor=\"middle\" x=\"160.7783\" y=\"-120.8\" font-family=\"Helvetica,sans-Serif\" font-size=\"14.00\" fill=\"#000000\">value = [18547, 5873]</text>\n",
       "<text text-anchor=\"middle\" x=\"160.7783\" y=\"-106.8\" font-family=\"Helvetica,sans-Serif\" font-size=\"14.00\" fill=\"#000000\">class = Target[&lt;=50K]</text>\n",
       "</g>\n",
       "<!-- 1 -->\n",
       "<g id=\"node2\" class=\"node\">\n",
       "<title>1</title>\n",
       "<path fill=\"none\" stroke=\"#000000\" d=\"M139.3356,-64C139.3356,-64 12.221,-64 12.221,-64 6.221,-64 .221,-58 .221,-52 .221,-52 .221,-12 .221,-12 .221,-6 6.221,0 12.221,0 12.221,0 139.3356,0 139.3356,0 145.3356,0 151.3356,-6 151.3356,-12 151.3356,-12 151.3356,-52 151.3356,-52 151.3356,-58 145.3356,-64 139.3356,-64\"/>\n",
       "<text text-anchor=\"middle\" x=\"75.7783\" y=\"-48.8\" font-family=\"Helvetica,sans-Serif\" font-size=\"14.00\" fill=\"#000000\">gini = 0.102</text>\n",
       "<text text-anchor=\"middle\" x=\"75.7783\" y=\"-34.8\" font-family=\"Helvetica,sans-Serif\" font-size=\"14.00\" fill=\"#000000\">samples = 7277</text>\n",
       "<text text-anchor=\"middle\" x=\"75.7783\" y=\"-20.8\" font-family=\"Helvetica,sans-Serif\" font-size=\"14.00\" fill=\"#000000\">value = [6886, 391]</text>\n",
       "<text text-anchor=\"middle\" x=\"75.7783\" y=\"-6.8\" font-family=\"Helvetica,sans-Serif\" font-size=\"14.00\" fill=\"#000000\">class = Target[&lt;=50K]</text>\n",
       "</g>\n",
       "<!-- 0&#45;&gt;1 -->\n",
       "<g id=\"edge1\" class=\"edge\">\n",
       "<title>0&#45;&gt;1</title>\n",
       "<path fill=\"none\" stroke=\"#000000\" d=\"M129.6101,-99.7647C122.5,-90.8144 114.9335,-81.2894 107.7888,-72.2955\"/>\n",
       "<polygon fill=\"#000000\" stroke=\"#000000\" points=\"110.3319,-69.8699 101.3712,-64.2169 104.8508,-74.224 110.3319,-69.8699\"/>\n",
       "<text text-anchor=\"middle\" x=\"98.5252\" y=\"-84.8544\" font-family=\"Helvetica,sans-Serif\" font-size=\"14.00\" fill=\"#000000\">True</text>\n",
       "</g>\n",
       "<!-- 2 -->\n",
       "<g id=\"node3\" class=\"node\">\n",
       "<title>2</title>\n",
       "<path fill=\"none\" stroke=\"#000000\" d=\"M309.3356,-64C309.3356,-64 182.221,-64 182.221,-64 176.221,-64 170.221,-58 170.221,-52 170.221,-52 170.221,-12 170.221,-12 170.221,-6 176.221,0 182.221,0 182.221,0 309.3356,0 309.3356,0 315.3356,0 321.3356,-6 321.3356,-12 321.3356,-12 321.3356,-52 321.3356,-52 321.3356,-58 315.3356,-64 309.3356,-64\"/>\n",
       "<text text-anchor=\"middle\" x=\"245.7783\" y=\"-48.8\" font-family=\"Helvetica,sans-Serif\" font-size=\"14.00\" fill=\"#000000\">gini = 0.435</text>\n",
       "<text text-anchor=\"middle\" x=\"245.7783\" y=\"-34.8\" font-family=\"Helvetica,sans-Serif\" font-size=\"14.00\" fill=\"#000000\">samples = 17143</text>\n",
       "<text text-anchor=\"middle\" x=\"245.7783\" y=\"-20.8\" font-family=\"Helvetica,sans-Serif\" font-size=\"14.00\" fill=\"#000000\">value = [11661, 5482]</text>\n",
       "<text text-anchor=\"middle\" x=\"245.7783\" y=\"-6.8\" font-family=\"Helvetica,sans-Serif\" font-size=\"14.00\" fill=\"#000000\">class = Target[&lt;=50K]</text>\n",
       "</g>\n",
       "<!-- 0&#45;&gt;2 -->\n",
       "<g id=\"edge2\" class=\"edge\">\n",
       "<title>0&#45;&gt;2</title>\n",
       "<path fill=\"none\" stroke=\"#000000\" d=\"M191.9465,-99.7647C199.0566,-90.8144 206.6232,-81.2894 213.7678,-72.2955\"/>\n",
       "<polygon fill=\"#000000\" stroke=\"#000000\" points=\"216.7058,-74.224 220.1855,-64.2169 211.2248,-69.8699 216.7058,-74.224\"/>\n",
       "<text text-anchor=\"middle\" x=\"223.0314\" y=\"-84.8544\" font-family=\"Helvetica,sans-Serif\" font-size=\"14.00\" fill=\"#000000\">False</text>\n",
       "</g>\n",
       "</g>\n",
       "</svg>\n"
      ],
      "text/plain": [
       "<graphviz.files.Source at 0x1a09c41668>"
      ]
     },
     "execution_count": 38,
     "metadata": {},
     "output_type": "execute_result"
    }
   ],
   "source": [
    "# Optional: Uncomment this cell and run it to visualize our trained model. \n",
    "import graphviz \n",
    "from sklearn.tree import export_graphviz\n",
    "export_graphviz(sal_tree, out_file=\"mytree.dot\", feature_names=data_train.columns , class_names=list(target_train), rounded=True)\n",
    "with open(\"mytree.dot\") as f:\n",
    "    dot_graph = f.read()\n",
    "graphviz.Source(dot_graph)"
   ]
  },
  {
   "cell_type": "markdown",
   "metadata": {},
   "source": [
    "### Smaller Trees\n",
    "\n",
    "Let's examine if there's a difference with smaller trees.  \n",
    "\n",
    "In the cell below, create a Decision Tree Classifier as we did before, but this time set the `max_depth` to `3`.  Still set the `criterion` to `gini`. Then, `.fit()` the smaller model to our training data (see the cell above if you are unsure of the syntax)."
   ]
  },
  {
   "cell_type": "code",
   "execution_count": 39,
   "metadata": {},
   "outputs": [
    {
     "data": {
      "text/plain": [
       "DecisionTreeClassifier(class_weight=None, criterion='gini', max_depth=1,\n",
       "            max_features=None, max_leaf_nodes=None,\n",
       "            min_impurity_decrease=0.0, min_impurity_split=None,\n",
       "            min_samples_leaf=1, min_samples_split=2,\n",
       "            min_weight_fraction_leaf=0.0, presort=False, random_state=None,\n",
       "            splitter='best')"
      ]
     },
     "execution_count": 39,
     "metadata": {},
     "output_type": "execute_result"
    }
   ],
   "source": [
    "sal_tree_smaller = tree.DecisionTreeClassifier(criterion=\"gini\",max_depth=1)\n",
    "sal_tree_smaller.fit(data_train, target_train.iloc[:,1])"
   ]
  },
  {
   "cell_type": "code",
   "execution_count": 40,
   "metadata": {},
   "outputs": [
    {
     "data": {
      "image/svg+xml": [
       "<?xml version=\"1.0\" encoding=\"UTF-8\" standalone=\"no\"?>\n",
       "<!DOCTYPE svg PUBLIC \"-//W3C//DTD SVG 1.1//EN\"\n",
       " \"http://www.w3.org/Graphics/SVG/1.1/DTD/svg11.dtd\">\n",
       "<!-- Generated by graphviz version 2.40.1 (20161225.0304)\n",
       " -->\n",
       "<!-- Title: Tree Pages: 1 -->\n",
       "<svg width=\"330pt\" height=\"186pt\"\n",
       " viewBox=\"0.00 0.00 329.56 186.00\" xmlns=\"http://www.w3.org/2000/svg\" xmlns:xlink=\"http://www.w3.org/1999/xlink\">\n",
       "<g id=\"graph0\" class=\"graph\" transform=\"scale(1 1) rotate(0) translate(4 182)\">\n",
       "<title>Tree</title>\n",
       "<polygon fill=\"#ffffff\" stroke=\"transparent\" points=\"-4,4 -4,-182 325.5566,-182 325.5566,4 -4,4\"/>\n",
       "<!-- 0 -->\n",
       "<g id=\"node1\" class=\"node\">\n",
       "<title>0</title>\n",
       "<path fill=\"none\" stroke=\"#000000\" d=\"M224.3356,-178C224.3356,-178 97.221,-178 97.221,-178 91.221,-178 85.221,-172 85.221,-166 85.221,-166 85.221,-112 85.221,-112 85.221,-106 91.221,-100 97.221,-100 97.221,-100 224.3356,-100 224.3356,-100 230.3356,-100 236.3356,-106 236.3356,-112 236.3356,-112 236.3356,-166 236.3356,-166 236.3356,-172 230.3356,-178 224.3356,-178\"/>\n",
       "<text text-anchor=\"middle\" x=\"160.7783\" y=\"-162.8\" font-family=\"Helvetica,sans-Serif\" font-size=\"14.00\" fill=\"#000000\">Age &lt;= 29.5</text>\n",
       "<text text-anchor=\"middle\" x=\"160.7783\" y=\"-148.8\" font-family=\"Helvetica,sans-Serif\" font-size=\"14.00\" fill=\"#000000\">gini = 0.365</text>\n",
       "<text text-anchor=\"middle\" x=\"160.7783\" y=\"-134.8\" font-family=\"Helvetica,sans-Serif\" font-size=\"14.00\" fill=\"#000000\">samples = 24420</text>\n",
       "<text text-anchor=\"middle\" x=\"160.7783\" y=\"-120.8\" font-family=\"Helvetica,sans-Serif\" font-size=\"14.00\" fill=\"#000000\">value = [18547, 5873]</text>\n",
       "<text text-anchor=\"middle\" x=\"160.7783\" y=\"-106.8\" font-family=\"Helvetica,sans-Serif\" font-size=\"14.00\" fill=\"#000000\">class = Target[&lt;=50K]</text>\n",
       "</g>\n",
       "<!-- 1 -->\n",
       "<g id=\"node2\" class=\"node\">\n",
       "<title>1</title>\n",
       "<path fill=\"none\" stroke=\"#000000\" d=\"M139.3356,-64C139.3356,-64 12.221,-64 12.221,-64 6.221,-64 .221,-58 .221,-52 .221,-52 .221,-12 .221,-12 .221,-6 6.221,0 12.221,0 12.221,0 139.3356,0 139.3356,0 145.3356,0 151.3356,-6 151.3356,-12 151.3356,-12 151.3356,-52 151.3356,-52 151.3356,-58 145.3356,-64 139.3356,-64\"/>\n",
       "<text text-anchor=\"middle\" x=\"75.7783\" y=\"-48.8\" font-family=\"Helvetica,sans-Serif\" font-size=\"14.00\" fill=\"#000000\">gini = 0.102</text>\n",
       "<text text-anchor=\"middle\" x=\"75.7783\" y=\"-34.8\" font-family=\"Helvetica,sans-Serif\" font-size=\"14.00\" fill=\"#000000\">samples = 7277</text>\n",
       "<text text-anchor=\"middle\" x=\"75.7783\" y=\"-20.8\" font-family=\"Helvetica,sans-Serif\" font-size=\"14.00\" fill=\"#000000\">value = [6886, 391]</text>\n",
       "<text text-anchor=\"middle\" x=\"75.7783\" y=\"-6.8\" font-family=\"Helvetica,sans-Serif\" font-size=\"14.00\" fill=\"#000000\">class = Target[&lt;=50K]</text>\n",
       "</g>\n",
       "<!-- 0&#45;&gt;1 -->\n",
       "<g id=\"edge1\" class=\"edge\">\n",
       "<title>0&#45;&gt;1</title>\n",
       "<path fill=\"none\" stroke=\"#000000\" d=\"M129.6101,-99.7647C122.5,-90.8144 114.9335,-81.2894 107.7888,-72.2955\"/>\n",
       "<polygon fill=\"#000000\" stroke=\"#000000\" points=\"110.3319,-69.8699 101.3712,-64.2169 104.8508,-74.224 110.3319,-69.8699\"/>\n",
       "<text text-anchor=\"middle\" x=\"98.5252\" y=\"-84.8544\" font-family=\"Helvetica,sans-Serif\" font-size=\"14.00\" fill=\"#000000\">True</text>\n",
       "</g>\n",
       "<!-- 2 -->\n",
       "<g id=\"node3\" class=\"node\">\n",
       "<title>2</title>\n",
       "<path fill=\"none\" stroke=\"#000000\" d=\"M309.3356,-64C309.3356,-64 182.221,-64 182.221,-64 176.221,-64 170.221,-58 170.221,-52 170.221,-52 170.221,-12 170.221,-12 170.221,-6 176.221,0 182.221,0 182.221,0 309.3356,0 309.3356,0 315.3356,0 321.3356,-6 321.3356,-12 321.3356,-12 321.3356,-52 321.3356,-52 321.3356,-58 315.3356,-64 309.3356,-64\"/>\n",
       "<text text-anchor=\"middle\" x=\"245.7783\" y=\"-48.8\" font-family=\"Helvetica,sans-Serif\" font-size=\"14.00\" fill=\"#000000\">gini = 0.435</text>\n",
       "<text text-anchor=\"middle\" x=\"245.7783\" y=\"-34.8\" font-family=\"Helvetica,sans-Serif\" font-size=\"14.00\" fill=\"#000000\">samples = 17143</text>\n",
       "<text text-anchor=\"middle\" x=\"245.7783\" y=\"-20.8\" font-family=\"Helvetica,sans-Serif\" font-size=\"14.00\" fill=\"#000000\">value = [11661, 5482]</text>\n",
       "<text text-anchor=\"middle\" x=\"245.7783\" y=\"-6.8\" font-family=\"Helvetica,sans-Serif\" font-size=\"14.00\" fill=\"#000000\">class = Target[&lt;=50K]</text>\n",
       "</g>\n",
       "<!-- 0&#45;&gt;2 -->\n",
       "<g id=\"edge2\" class=\"edge\">\n",
       "<title>0&#45;&gt;2</title>\n",
       "<path fill=\"none\" stroke=\"#000000\" d=\"M191.9465,-99.7647C199.0566,-90.8144 206.6232,-81.2894 213.7678,-72.2955\"/>\n",
       "<polygon fill=\"#000000\" stroke=\"#000000\" points=\"216.7058,-74.224 220.1855,-64.2169 211.2248,-69.8699 216.7058,-74.224\"/>\n",
       "<text text-anchor=\"middle\" x=\"223.0314\" y=\"-84.8544\" font-family=\"Helvetica,sans-Serif\" font-size=\"14.00\" fill=\"#000000\">False</text>\n",
       "</g>\n",
       "</g>\n",
       "</svg>\n"
      ],
      "text/plain": [
       "<graphviz.files.Source at 0x1065979b0>"
      ]
     },
     "execution_count": 40,
     "metadata": {},
     "output_type": "execute_result"
    }
   ],
   "source": [
    "# Optional: Uncomment this cell and run it to visualize our trained model. \n",
    "export_graphviz(sal_tree_smaller, out_file=\"mytree.dot\", feature_names=data_train.columns ,\n",
    "                class_names=list(target_train), rounded=True)\n",
    "with open(\"mytree.dot\") as f:\n",
    "    dot_graph = f.read()\n",
    "graphviz.Source(dot_graph)"
   ]
  },
  {
   "cell_type": "markdown",
   "metadata": {},
   "source": [
    "Most leaf nodes will point to <= 50 k. How is this possible?\n",
    "A class imbalance in our dataset! 5865 make more than 50k, while 18555 make less (~25 vs 75%)"
   ]
  },
  {
   "cell_type": "markdown",
   "metadata": {},
   "source": [
    "Note how the left nodes always point to \"true\" and the right nodes to \"false\"."
   ]
  },
  {
   "cell_type": "markdown",
   "metadata": {},
   "source": [
    "### 2.3 Model performance\n",
    "\n",
    "Now that we have trained models, let's evaluate the performance of each. \n",
    "\n",
    "Run the cell below to import the `accuracy_score` helper method.  Then, run the cell below to create some sample predictions on our testing data and generate a `confusion_matrix` and a `classification_report` based on the predictions.  \n"
   ]
  },
  {
   "cell_type": "code",
   "execution_count": 45,
   "metadata": {},
   "outputs": [],
   "source": [
    "from sklearn.metrics import accuracy_score"
   ]
  },
  {
   "cell_type": "code",
   "execution_count": 41,
   "metadata": {},
   "outputs": [
    {
     "name": "stdout",
     "output_type": "stream",
     "text": [
      "[[6173    0]\n",
      " [1968    0]]\n",
      "             precision    recall  f1-score   support\n",
      "\n",
      "        0.0       0.76      1.00      0.86      6173\n",
      "        1.0       0.00      0.00      0.00      1968\n",
      "\n",
      "avg / total       0.57      0.76      0.65      8141\n",
      "\n"
     ]
    },
    {
     "name": "stderr",
     "output_type": "stream",
     "text": [
      "/anaconda3/lib/python3.6/site-packages/sklearn/metrics/classification.py:1135: UndefinedMetricWarning: Precision and F-score are ill-defined and being set to 0.0 in labels with no predicted samples.\n",
      "  'precision', 'predicted', average, warn_for)\n"
     ]
    }
   ],
   "source": [
    "pred= sal_tree.predict(data_test)\n",
    "print(metrics.confusion_matrix(target_test.iloc[:,1], pred))\n",
    "print(metrics.classification_report(target_test.iloc[:,1], pred))"
   ]
  },
  {
   "cell_type": "code",
   "execution_count": 46,
   "metadata": {},
   "outputs": [
    {
     "data": {
      "text/plain": [
       "0.7582606559390738"
      ]
     },
     "execution_count": 46,
     "metadata": {},
     "output_type": "execute_result"
    }
   ],
   "source": [
    "accuracy_score(target_test.iloc[:,1], pred)"
   ]
  },
  {
   "cell_type": "code",
   "execution_count": 42,
   "metadata": {},
   "outputs": [
    {
     "name": "stdout",
     "output_type": "stream",
     "text": [
      "[[6173    0]\n",
      " [1968    0]]\n",
      "             precision    recall  f1-score   support\n",
      "\n",
      "        0.0       0.76      1.00      0.86      6173\n",
      "        1.0       0.00      0.00      0.00      1968\n",
      "\n",
      "avg / total       0.57      0.76      0.65      8141\n",
      "\n"
     ]
    },
    {
     "name": "stderr",
     "output_type": "stream",
     "text": [
      "/anaconda3/lib/python3.6/site-packages/sklearn/metrics/classification.py:1135: UndefinedMetricWarning: Precision and F-score are ill-defined and being set to 0.0 in labels with no predicted samples.\n",
      "  'precision', 'predicted', average, warn_for)\n"
     ]
    }
   ],
   "source": [
    "pred_smaller = sal_tree_smaller.predict(data_test)\n",
    "print(metrics.confusion_matrix(target_test.iloc[:,1], pred_smaller))\n",
    "print(metrics.classification_report(target_test.iloc[:,1], pred_smaller))"
   ]
  },
  {
   "cell_type": "markdown",
   "metadata": {},
   "source": [
    "Now, run the cell below to generate an accuracy score for our predictions."
   ]
  },
  {
   "cell_type": "code",
   "execution_count": 47,
   "metadata": {},
   "outputs": [
    {
     "data": {
      "text/plain": [
       "0.7582606559390738"
      ]
     },
     "execution_count": 47,
     "metadata": {},
     "output_type": "execute_result"
    }
   ],
   "source": [
    "accuracy_score(target_test.iloc[:,1], pred_smaller)"
   ]
  },
  {
   "cell_type": "markdown",
   "metadata": {},
   "source": [
    "### Pre-Tuning\n",
    "\n",
    "One of the best ways to tune Decision Trees to prevent **_overfitting_** is to pre-tune the model by providing constraints on certain aspects of the Decision Tree. Decision Trees are famously prone to overfitting, and tuning the model to be more general can help prevent this. \n",
    "\n",
    "The following parameters are the most commonly used for tuning.  In a later lab, you'll learn how to automate the search for the best parameters for each. "
   ]
  },
  {
   "cell_type": "markdown",
   "metadata": {},
   "source": [
    "- criterion: either gini for gini impurity, or entropy for information gain.\n",
    "- max_depth: the maximum depth of a tree.\n",
    "- min_samples_split: minimum amount of samples required to split an internal node.\n",
    "- min_samples_leaf: The minimum number of samples required to be at a leaf node.\n",
    "- class_weight: Weights associated with classes."
   ]
  },
  {
   "cell_type": "code",
   "execution_count": null,
   "metadata": {},
   "outputs": [],
   "source": [
    "from sklearn import tree\n",
    "sal_tree_tuned= tree.DecisionTreeClassifier(criterion = \"gini\",\n",
    "                                            max_depth = 12, min_samples_split = 300, min_samples_leaf = 150)\n",
    "sal_tree_tuned = sal_tree_tuned.fit(data_train, target_train.iloc[:,1])"
   ]
  },
  {
   "cell_type": "code",
   "execution_count": null,
   "metadata": {},
   "outputs": [],
   "source": [
    "# Optional: Uncomment this cell and run it to visualize our trained model. \n",
    "# export_graphviz(sal_tree_tuned, out_file=\"mytree.dot\", feature_names=data_train.columns , \n",
    "#                 class_names=list(target_train), rounded=True)\n",
    "# with open(\"mytree.dot\") as f:\n",
    "#     dot_graph = f.read()\n",
    "# graphviz.Source(dot_graph)"
   ]
  },
  {
   "cell_type": "markdown",
   "metadata": {},
   "source": [
    "Now, run the cell below so we can see how well the pre-tuned model did."
   ]
  },
  {
   "cell_type": "code",
   "execution_count": null,
   "metadata": {},
   "outputs": [],
   "source": [
    "pred_tuned = sal_tree_tuned.predict(data_test)\n",
    "print(metrics.confusion_matrix(target_test.iloc[:,1], pred_tuned))\n",
    "print(metrics.classification_report(target_test.iloc[:,1], pred_tuned))\n",
    "\n",
    "accuracy_score(target_test.iloc[:,1], pred_tuned)"
   ]
  },
  {
   "cell_type": "markdown",
   "metadata": {},
   "source": [
    "For this deep tree: better result with pruning!"
   ]
  },
  {
   "cell_type": "markdown",
   "metadata": {},
   "source": [
    "# Sources\n",
    "https://www.svds.com/machine-learning-vs-statistics/ \n",
    "\n",
    "https://github.com/xbno/Projects/blob/master/Models_Scratch/Decision%20Trees%20from%20scratch.ipynb\n",
    "\n",
    "https://archive.ics.uci.edu/ml/machine-learning-databases/adult/\n",
    "\n",
    "https://www.valentinmihov.com/2015/04/17/adult-income-data-set/\n",
    "\n",
    "http://scikit-learn.org/stable/modules/tree.html"
   ]
  }
 ],
 "metadata": {
  "kernelspec": {
   "display_name": "Python 3",
   "language": "python",
   "name": "python3"
  },
  "language_info": {
   "codemirror_mode": {
    "name": "ipython",
    "version": 3
   },
   "file_extension": ".py",
   "mimetype": "text/x-python",
   "name": "python",
   "nbconvert_exporter": "python",
   "pygments_lexer": "ipython3",
   "version": "3.6.5"
  }
 },
 "nbformat": 4,
 "nbformat_minor": 2
}
